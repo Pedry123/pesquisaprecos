{
 "cells": [
  {
   "cell_type": "markdown",
   "metadata": {},
   "source": [
    "# Inicialização do Código"
   ]
  },
  {
   "cell_type": "code",
   "execution_count": 66,
   "metadata": {},
   "outputs": [
    {
     "data": {
      "text/html": [
       "<div>\n",
       "<style scoped>\n",
       "    .dataframe tbody tr th:only-of-type {\n",
       "        vertical-align: middle;\n",
       "    }\n",
       "\n",
       "    .dataframe tbody tr th {\n",
       "        vertical-align: top;\n",
       "    }\n",
       "\n",
       "    .dataframe thead th {\n",
       "        text-align: right;\n",
       "    }\n",
       "</style>\n",
       "<table border=\"1\" class=\"dataframe\">\n",
       "  <thead>\n",
       "    <tr style=\"text-align: right;\">\n",
       "      <th></th>\n",
       "      <th>Nome</th>\n",
       "      <th>Termos banidos</th>\n",
       "      <th>Preço mínimo</th>\n",
       "      <th>Preço máximo</th>\n",
       "    </tr>\n",
       "  </thead>\n",
       "  <tbody>\n",
       "    <tr>\n",
       "      <th>0</th>\n",
       "      <td>iphone 12 64gb</td>\n",
       "      <td>mini watch</td>\n",
       "      <td>3000</td>\n",
       "      <td>3500</td>\n",
       "    </tr>\n",
       "    <tr>\n",
       "      <th>1</th>\n",
       "      <td>rtx 3060</td>\n",
       "      <td>zota galax</td>\n",
       "      <td>4000</td>\n",
       "      <td>4500</td>\n",
       "    </tr>\n",
       "  </tbody>\n",
       "</table>\n",
       "</div>"
      ],
      "text/plain": [
       "             Nome Termos banidos  Preço mínimo  Preço máximo\n",
       "0  iphone 12 64gb     mini watch          3000          3500\n",
       "1        rtx 3060     zota galax          4000          4500"
      ]
     },
     "metadata": {},
     "output_type": "display_data"
    }
   ],
   "source": [
    "# criar um navegador\n",
    "from selenium import webdriver\n",
    "from selenium.webdriver.common.keys import Keys\n",
    "from selenium.webdriver.common.by import By\n",
    "from email.mime.text import MIMEText\n",
    "from email.mime.multipart import MIMEMultipart\n",
    "import pandas as pd\n",
    "import openpyxl\n",
    "import time\n",
    "import smtplib\n",
    "\n",
    "\n",
    "\n",
    "nav = webdriver.Chrome()\n",
    "\n",
    "# importar/visualizar a base de dados\n",
    "tabela_produtos = pd.read_excel('buscas.xlsx')\n",
    "display(tabela_produtos)"
   ]
  },
  {
   "cell_type": "markdown",
   "metadata": {},
   "source": [
    "# Definição de Funções"
   ]
  },
  {
   "cell_type": "code",
   "execution_count": 67,
   "metadata": {},
   "outputs": [],
   "source": [
    "def verificar_tem_termos_banidos(lista_termos_banidos, nome):\n",
    "    tem_termos_banidos = False\n",
    "    for palavra in lista_termos_banidos:\n",
    "            if palavra in nome.lower():\n",
    "                tem_termos_banidos = True\n",
    "    return tem_termos_banidos\n",
    "\n",
    "def verificar_tem_todos_termos_produto(lista_termos_nome_produto, nome):\n",
    "    tem_todos_termos_produtos = True\n",
    "    for palavra in lista_termos_nome_produto:\n",
    "        if palavra not in nome.lower():\n",
    "            tem_todos_termos_produtos = False\n",
    "    return tem_todos_termos_produtos"
   ]
  },
  {
   "cell_type": "code",
   "execution_count": 68,
   "metadata": {},
   "outputs": [],
   "source": [
    "# pesquisar pelo produto\n",
    "\n",
    "        \n",
    "\n",
    "\n",
    "# para cada item dentro da nossa base de dados, para cada produto\n",
    "    # procurar esse produto no google shopping\n",
    "        # verificar se algum dos produtos do google shopping está dentro da minha faixa de preço\n",
    "    # procurar esse produto no buscapé\n",
    "        # verificar se algum dos produtos do buscapé está dentro da minha faixa de preço\n",
    "\n",
    "# salvar as ofertas boas em um dataframe (tabela)\n",
    "# exportar pro excel\n",
    "# enviar por email o resultado da tabela"
   ]
  },
  {
   "cell_type": "code",
   "execution_count": 69,
   "metadata": {},
   "outputs": [],
   "source": [
    "def busca_google_shopping(nav, produto, termos_banidos, preco_min, preco_max):\n",
    "    produto = produto.lower()\n",
    "    termos_banidos = termos_banidos.lower()\n",
    "    lista_termos_nome_produto = produto.split()\n",
    "    lista_termos_banidos = termos_banidos.split()\n",
    "    lista_ofertas = []\n",
    "    preco_min = float(preco_min)\n",
    "    preco_max = float(preco_max)\n",
    "\n",
    "    # abrir google\n",
    "    nav.get('https://www.google.com/')\n",
    "    nav.find_element(By.XPATH, '//*[@id=\"APjFqb\"]').send_keys(produto, Keys.ENTER) # primeiro escreve o produto e depois aperta enter\n",
    "    # entrar na aba shopping\n",
    "    nav.find_element(By.XPATH, '//*[@id=\"hdtb-sc\"]/div/div/div[1]/div/div[2]/a').click()\n",
    "    # é bom por aspas simples quando copiar xpath, pois o xpath pode ter aspas duplas\n",
    "\n",
    "    # pegar as informações do produto\n",
    "    lista_resultados = nav.find_elements(By.CLASS_NAME, 'i0X6df')\n",
    "    for resultado in lista_resultados:  \n",
    "        nome = resultado.find_element(By.CLASS_NAME, 'tAxDx').text\n",
    "        # analisar se não tem nenhum termo banido\n",
    "       \n",
    "        if not verificar_tem_termos_banidos(lista_termos_banidos, nome) and verificar_tem_todos_termos_produto(lista_termos_nome_produto, nome):\n",
    "            preco = resultado.find_element(By.CLASS_NAME, 'a8Pemb').text\n",
    "            preco = preco.replace('R$', '').replace(' ', '').replace('.', '').replace(',', '.')\n",
    "            # tirar o ' + impostos'\n",
    "            if 'impostos' in preco:\n",
    "                preco = preco.split('+impostos')[0]\n",
    "            preco = float(preco)\n",
    "\n",
    "            # verificar se o preco ta entre preco min e max\n",
    "            if preco_min <= preco <= preco_max:\n",
    "            \n",
    "                elemento_ref = resultado.find_element(By.CLASS_NAME, \n",
    "                'EI11Pd')\n",
    "                elemento_pai = elemento_ref.find_element(By.XPATH, '..')\n",
    "                link = elemento_pai.get_attribute('href')\n",
    "                #link = resultado.find_element(By.CLASS_NAME, 'Lq5OHe').get_attribute('href')\n",
    "                lista_ofertas.append((nome, preco, link))\n",
    "    return lista_ofertas\n",
    "\n",
    "def busca_buscape(nav, produto, termos_banidos, preco_min, preco_max):\n",
    "    # tratar os valores\n",
    "    produto = produto.lower()\n",
    "    termos_banidos = termos_banidos.lower()\n",
    "    lista_termos_nome_produto = produto.split()\n",
    "    lista_termos_banidos = termos_banidos.split()\n",
    "    lista_ofertas = []\n",
    "    preco_min = float(preco_min)\n",
    "    preco_max = float(preco_max)\n",
    "\n",
    "    # buscar no buscape\n",
    "    nav.get('https://www.buscape.com.br/')\n",
    "    nav.find_element(By.XPATH, '//*[@id=\"new-header\"]/div[1]/div/div/div[3]/div/div/div[2]/div/div[1]/input').send_keys(produto, Keys.ENTER)\n",
    "\n",
    "    # pegar os resultados\n",
    "    time.sleep(3) # para esperar carregar a página\n",
    "    lista_resultados = nav.find_elements(By.CLASS_NAME, 'ProductCard_ProductCard_Inner__gapsh')\n",
    "\n",
    "    for resultado in lista_resultados:\n",
    "        preco = resultado.find_element(By.CLASS_NAME, 'Text_MobileHeadingS__HEz7L').text\n",
    "        preco = preco.replace('R$', '').replace(' ', '').replace('.', '').replace(',', '.')\n",
    "        preco = float(preco)\n",
    "        nome = resultado.find_element(By.CLASS_NAME, 'ProductCard_ProductCard_Name__U_mUQ').text\n",
    "        link = resultado.get_attribute('href')\n",
    "        \n",
    "    # analisar se o resultado tem termo banido e tem todos os termos do produto\n",
    "        if not verificar_tem_termos_banidos(lista_termos_banidos, nome) and verificar_tem_todos_termos_produto(lista_termos_nome_produto, nome):\n",
    "            # verificar se o preco ta entre preco min e max\n",
    "            if preco_min <= preco <= preco_max:\n",
    "                lista_ofertas.append((nome, preco, link))\n",
    "    return lista_ofertas\n",
    "\n",
    "   \n",
    "\n",
    "    # analisar se o preco esta entre o preco minimo e o preco maximo\n",
    "\n",
    "    # retornar a lista de ofertas do buscape\n",
    "\n"
   ]
  },
  {
   "cell_type": "markdown",
   "metadata": {},
   "source": [
    "# Construindo a nossa lista de ofertas"
   ]
  },
  {
   "cell_type": "code",
   "execution_count": 70,
   "metadata": {},
   "outputs": [],
   "source": [
    "tabela_ofertas = pd.DataFrame()\n",
    "for linha in tabela_produtos.index:\n",
    "    produto = tabela_produtos.loc[linha, \"Nome\"]\n",
    "    termos_banidos = tabela_produtos.loc[linha, \"Termos banidos\"]\n",
    "    preco_min = tabela_produtos.loc[linha, \"Preço mínimo\"]\n",
    "    preco_max = tabela_produtos.loc[linha, \"Preço máximo\"]\n",
    "\n",
    "\n",
    "    lista_ofertas_google_shopping = busca_google_shopping(nav, produto, termos_banidos, preco_min, preco_max)\n",
    "    if lista_ofertas_google_shopping:\n",
    "        tabela_google_shopping = pd.DataFrame(lista_ofertas_google_shopping, columns=['Produto', 'Preço', 'Link'])\n",
    "        tabela_ofertas = pd.concat([tabela_ofertas, tabela_google_shopping])\n",
    "\n",
    "    lista_ofertas_buscape = busca_buscape(nav, produto, termos_banidos, preco_min, preco_max)\n",
    "    if lista_ofertas_buscape:\n",
    "        tabela_buscape = pd.DataFrame(lista_ofertas_buscape, columns=['Produto', 'Preço', 'Link'])\n",
    "        tabela_ofertas = pd.concat([tabela_ofertas, tabela_buscape])\n",
    "    \n",
    "\n",
    "\n",
    "    \n"
   ]
  },
  {
   "cell_type": "markdown",
   "metadata": {},
   "source": [
    "# Exportando para o Excel"
   ]
  },
  {
   "cell_type": "code",
   "execution_count": 71,
   "metadata": {},
   "outputs": [],
   "source": [
    "tabela_ofertas.to_excel(\"Ofertas.xlsx\", index=False)"
   ]
  },
  {
   "cell_type": "markdown",
   "metadata": {},
   "source": [
    "# Enviando o E-mail"
   ]
  },
  {
   "cell_type": "code",
   "execution_count": 72,
   "metadata": {},
   "outputs": [],
   "source": [
    "def enviar_email():  \n",
    "    texto = f\"\"\"\n",
    "    Prezados,\n",
    "    Encontramos alguns produtos em oferta dentro da faixa de preço desejada\n",
    "    {tabela_ofertas.to_string(index=False)}\n",
    "    Att,\n",
    "    Pedro\n",
    "    \"\"\"\n",
    "\n",
    "    html = f\"\"\"\n",
    "    <p>Prezados,</p>\n",
    "    <p>Encontramos alguns produtos em oferta dentro da faixa de preço desejada</p>\n",
    "    {tabela_ofertas.to_html(index=False)}\n",
    "    <p>Att,</p>\n",
    "    <p>Pedro</p>\n",
    "    \"\"\"\n",
    "\n",
    "    msg = MIMEMultipart('alternative')\n",
    "    msg['Subject'] = \"Lista de Ofertas\"\n",
    "    msg['From'] = 'pedrocacoal2013@gmail.com'\n",
    "    msg['To'] = 'pedro.oliveira6@sou.ufmt.br'\n",
    "    password = 'rvwi zduq yylb kbnz' \n",
    "    msg.add_header('Lista de Ofertas', 'text/html')\n",
    "    \n",
    "    parte1 = MIMEText(texto, 'plain')\n",
    "    parte2 = MIMEText(html, 'html')\n",
    "    msg.attach(parte1)\n",
    "    msg.attach(parte2)\n",
    "\n",
    "    s = smtplib.SMTP('smtp.gmail.com: 587')\n",
    "    s.starttls()\n",
    "    # Login Credentials for sending the mail\n",
    "    s.login(msg['From'], password)\n",
    "    s.sendmail(msg['From'], [msg['To']], msg.as_string().encode('utf-8'))\n",
    "    print('Email enviado')\n",
    "    \n",
    "nav.quit()"
   ]
  },
  {
   "cell_type": "code",
   "execution_count": 73,
   "metadata": {},
   "outputs": [
    {
     "name": "stdout",
     "output_type": "stream",
     "text": [
      "Email enviado\n"
     ]
    }
   ],
   "source": [
    "enviar_email()"
   ]
  }
 ],
 "metadata": {
  "kernelspec": {
   "display_name": "Python 3",
   "language": "python",
   "name": "python3"
  },
  "language_info": {
   "codemirror_mode": {
    "name": "ipython",
    "version": 3
   },
   "file_extension": ".py",
   "mimetype": "text/x-python",
   "name": "python",
   "nbconvert_exporter": "python",
   "pygments_lexer": "ipython3",
   "version": "3.10.12"
  }
 },
 "nbformat": 4,
 "nbformat_minor": 2
}
